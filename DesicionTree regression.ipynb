{
 "cells": [
  {
   "cell_type": "markdown",
   "id": "failing-express",
   "metadata": {},
   "source": [
    "# Decision Tree Regression"
   ]
  },
  {
   "cell_type": "code",
   "execution_count": null,
   "id": "elementary-shareware",
   "metadata": {},
   "outputs": [],
   "source": [
    "import numpy as np\n",
    "import matplotlib.pyplot as plt\n",
    "import pandas as pd"
   ]
  },
  {
   "cell_type": "code",
   "execution_count": null,
   "id": "rural-encyclopedia",
   "metadata": {},
   "outputs": [],
   "source": [
    "dataset= pd.read_csv('Position_Salaries.csv')\n",
    "a = dataset.iloc[:,1:2].values\n",
    "b = dataset.iloc[:,2:3].values\n",
    "\n",
    "#Spitting the dataset\n",
    "\n",
    "\"\"\"from sklearn.cross_validation import train_test_split\n",
    "a_train, a_test, b_train, b_test=train_test_split(a,b,test_size=0.2,random_state= 0)\"\"\"\n",
    "\n",
    "#Fitting Decision Tree Regression\n",
    "\n",
    "from sklearn.tree import DecisionTreeRegressor\n",
    "regressor = DecisionTreeRegressor(random_state = 0)\n",
    "regressor.fit(a,b)\n",
    "\n",
    "#Predicting\n",
    "\n",
    "b_pred= regressor.predict([[6.5]])\n",
    "\n",
    "#Visualising\n",
    "\n",
    "a_grid= np.arange(min(a),max(a), 0.01)\n",
    "a_grid= a_grid.reshape((len(a_grid), 1))\n",
    "plt.scatter(a,b, color = 'red')\n",
    "plt.plot(a_grid, regressor.predict(a_grid), color = 'blue')\n",
    "plt.title('Truth or Bluff(Decision Tree Regression)')\n",
    "plt.xlabel('Position level')\n",
    "plt.ylabel('Salary')\n",
    "plt.show()"
   ]
  }
 ],
 "metadata": {
  "kernelspec": {
   "display_name": "Python 3",
   "language": "python",
   "name": "python3"
  },
  "language_info": {
   "codemirror_mode": {
    "name": "ipython",
    "version": 3
   },
   "file_extension": ".py",
   "mimetype": "text/x-python",
   "name": "python",
   "nbconvert_exporter": "python",
   "pygments_lexer": "ipython3",
   "version": "3.8.7"
  }
 },
 "nbformat": 4,
 "nbformat_minor": 5
}
